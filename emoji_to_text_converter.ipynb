{
  "cells": [
    {
      "cell_type": "markdown",
      "metadata": {
        "id": "view-in-github",
        "colab_type": "text"
      },
      "source": [
        "<a href=\"https://colab.research.google.com/github/PawanTony/emoji-to-text-converter-/blob/main/emoji_to_text_converter.ipynb\" target=\"_parent\"><img src=\"https://colab.research.google.com/assets/colab-badge.svg\" alt=\"Open In Colab\"/></a>"
      ]
    },
    {
      "cell_type": "code",
      "source": [
        "import pandas as pd\n",
        "import random\n",
        "import re\n",
        "import string\n",
        "\n",
        "def generate_emoji_dataset(num_samples=5000):\n",
        "    \"\"\"Generates a synthetic dataset with more intentional text-emoji associations.\"\"\"\n",
        "    emoji_categories = {\n",
        "        \"happy\": ([\"😊\", \"😂\", \"😄\", \"😃\", \"😁\", \"😆\", \"😇\", \"🥰\", \"😍\", \"🤩\"],\n",
        "                  [\"I'm feeling so happy today!\", \"This makes me happy.\", \"Pure joy!\", \"So glad!\", \"What a happy day.\",\n",
        "                   \"Feeling good!\", \"Life is good!\", \"So cheerful!\", \"Happy vibes!\", \"Smiling all day.\"]),\n",
        "        \"sad\": ([\"😭\", \"😢\", \"😔\", \"🥺\", \"😓\", \"😞\", \"😟\", \"🙁\", \"😫\"],\n",
        "                [\"I'm feeling really sad.\", \"This makes me so sad.\", \"Feeling down and blue.\", \"So upset.\", \"Wish I wasn't so sad.\",\n",
        "                 \"Feeling gloomy.\", \"Heartbroken.\", \"Tears in my eyes.\", \"So lonely.\", \"Just want to cry.\"]),\n",
        "        \"love\": ([\"❤️\", \"💖\", \"💞\", \"💕\", \"💘\", \"💌\", \"😘\", \"😍\", \"🥰\"],\n",
        "                 [\"I love you!\", \"Feeling so much love.\", \"Love is in the air.\", \"So romantic!\", \"Sending love.\",\n",
        "                  \"You mean the world to me.\", \"Crazy in love.\", \"My heart beats for you.\", \"So affectionate.\", \"Love you always.\"]),\n",
        "        \"angry\": ([\"😠\", \"😡\", \"😤\", \"🤬\", \"👿\", \"😾\"],\n",
        "                  [\"I'm so angry right now!\", \"This makes me furious.\", \"Feeling so frustrated.\", \"I'm really mad!\", \"This is infuriating.\",\n",
        "                   \"So annoyed!\", \"Beyond angry!\", \"Seeing red!\", \"Fuming!\", \"Absolutely livid!\"]),\n",
        "        \"surprise\": ([\"😮\", \"😲\", \"🤯\", \"😳\", \"😯\", \"😱\"],\n",
        "                     [\"Wow!\", \"I'm so surprised!\", \"What a surprise!\", \"Unbelievable!\", \"Are you serious?\",\n",
        "                      \"Can't believe it!\", \"Mind blown!\", \"Totally shocked!\", \"Unexpected!\", \"What the...?!\"]),\n",
        "        \"funny\": ([\"🤪\", \"😜\", \"😝\", \"🤣\", \"😹\", \"🤡\"],\n",
        "                  [\"That's hilarious!\", \"So funny!\", \"I'm laughing so hard.\", \"What a joke!\", \"That's comedy gold.\",\n",
        "                   \"ROFL!\", \"LOL!\", \"So amusing!\", \"What a comedian!\", \"Cracking up!\"]),\n",
        "        \"thinking\": ([\"🤔\", \"🤨\", \"🧐\", \"🙄\"],\n",
        "                     [\"I'm thinking about it.\", \"Let me think...\", \"Just pondering.\", \"Considering...\", \"What do you think?\",\n",
        "                      \"Hmm...\", \"Let me see...\", \"Trying to figure it out.\", \"Just wondering...\", \"Deep in thought.\"]),\n",
        "        \"celebration\": ([\"🎉\", \"🎊\", \"🎈\", \"🎁\", \"🍾\"],\n",
        "                        [\"Let's celebrate!\", \"Time for a party!\", \"Celebrating good times!\", \"Cheers to that!\", \"So festive!\",\n",
        "                         \"Hip hip hooray!\", \"Party time!\", \"So exciting!\", \"Making memories!\", \"Feeling celebratory!\"]),\n",
        "        \"food\": ([\"😋\", \"🤤\", \"🍕\", \"🍔\", \"🍟\", \"🍣\", \"🍜\", \"🍝\", \"🍦\", \"🍰\"],\n",
        "                 [\"This food is delicious!\", \"I'm so hungry for this.\", \"Craving some good food.\", \"Time to eat!\", \"Yummy!\",\n",
        "                  \"So tasty!\", \"Food coma incoming!\", \"Delicious!\", \"My favorite!\", \"Can't get enough!\"]),\n",
        "        \"travel\": ([\"✈️\", \"🚗\", \"🚂\", \"🚌\", \"🚢\", \"🚀\", \"🌍\", \"🗺️\", \"🏖️\", \"⛰️\"],\n",
        "                   [\"I love to travel.\", \"Dreaming of my next trip.\", \"Exploring new places.\", \"Adventure time!\", \"Wish I was there.\",\n",
        "                    \"Wanderlust!\", \"On the road again!\", \"Soaking up the sun!\", \"Enjoying the view!\", \"Making memories abroad!\"]),\n",
        "        \"music\": ([\"🎶\", \"🎵\", \"🎧\", \"🎤\", \"🎸\", \"🎹\"],\n",
        "                  [\"Listening to some great music.\", \"Enjoying the tunes.\", \"Love this song!\", \"Making some music.\", \"The power of music.\",\n",
        "                   \"Soothing melodies.\", \"Upbeat rhythm!\", \"Lost in the music!\", \"Playing my favorite track!\", \"The sound of happiness!\"]),\n",
        "        \"miss\": ([\"😢\", \"😔\", \"🥺\"],\n",
        "                 [\"I miss you so much.\", \"Wish you were here.\", \"Missing you a lot.\", \"Thinking of you.\", \"Can't wait to see you again.\",\n",
        "                  \"Feeling your absence.\", \"Longing for you.\", \"You're always in my thoughts.\", \"So lonely without you.\", \"Hoping to see you soon.\"]),\n",
        "        \"hungry\": ([\"😋\", \"🤤\"],\n",
        "                   [\"I'm so hungry!\", \"Starving!\", \"Time to eat.\", \"I need some food.\", \"So hungry right now.\",\n",
        "                    \"My stomach is rumbling!\", \"Food, please!\", \"Can't wait to eat!\", \"Ready for a feast!\", \"Need to grab a bite!\"]),\n",
        "    }\n",
        "\n",
        "    data = []\n",
        "    for category, (emojis, texts) in emoji_categories.items():\n",
        "        for emoji in emojis:\n",
        "            for text in texts:\n",
        "                data.append({\"text\": text, \"emoji\": emoji})\n",
        "\n",
        "    df = pd.DataFrame(random.sample(data, min(num_samples, len(data))))\n",
        "    return df\n",
        "\n",
        "# Generate the dataset\n",
        "emoji_df = generate_emoji_dataset(num_samples=5000)\n",
        "print(f\"Generated dataset with {len(emoji_df)} samples and {emoji_df['emoji'].nunique()} unique emojis.\")\n",
        "print(emoji_df['emoji'].value_counts().head(20))\n",
        "print(emoji_df.head())"
      ],
      "metadata": {
        "colab": {
          "base_uri": "https://localhost:8080/"
        },
        "id": "kpJ79HvfjeAu",
        "outputId": "ab4eed77-c629-4b5a-8f0a-1846c3bb8706"
      },
      "execution_count": 1,
      "outputs": [
        {
          "output_type": "stream",
          "name": "stdout",
          "text": [
            "Generated dataset with 860 samples and 79 unique emojis.\n",
            "emoji\n",
            "🥰     20\n",
            "🥺     20\n",
            "😔     20\n",
            "🤤     20\n",
            "😋     20\n",
            "😍     20\n",
            "😢     20\n",
            "❤️    10\n",
            "💘     10\n",
            "😝     10\n",
            "😭     10\n",
            "🤨     10\n",
            "😮     10\n",
            "🎧     10\n",
            "😞     10\n",
            "😂     10\n",
            "🗺️    10\n",
            "🤯     10\n",
            "🌍     10\n",
            "💖     10\n",
            "Name: count, dtype: int64\n",
            "                      text emoji\n",
            "0                 So glad!     🥰\n",
            "1  The sound of happiness!     🎧\n",
            "2               So lonely.     😞\n",
            "3              Unexpected!     😮\n",
            "4      That's comedy gold.     😝\n"
          ]
        }
      ]
    },
    {
      "cell_type": "code",
      "source": [
        "from sklearn.feature_extraction.text import TfidfVectorizer\n",
        "import re\n",
        "import string\n",
        "\n",
        "def clean_text(text):\n",
        "    text = text.lower()\n",
        "    text = re.sub(r'[%s]' % re.escape(string.punctuation), '', text)\n",
        "    return text\n",
        "\n",
        "emoji_df['cleaned_text'] = emoji_df['text'].apply(clean_text)\n",
        "print(\"\\nCleaned Text Examples:\")\n",
        "print(emoji_df[['text', 'cleaned_text']].head())\n",
        "\n",
        "vectorizer = TfidfVectorizer()\n",
        "X = vectorizer.fit_transform(emoji_df['cleaned_text'])\n",
        "y = emoji_df['emoji']\n",
        "print(\"\\nShape of Feature Matrix (X):\", X.shape)\n",
        "print(\"Shape of Target Variable (y):\", y.shape)"
      ],
      "metadata": {
        "colab": {
          "base_uri": "https://localhost:8080/"
        },
        "id": "0xyNeMhDKlzp",
        "outputId": "b8117b4b-706b-4afa-c494-ad018d007e8a"
      },
      "execution_count": 3,
      "outputs": [
        {
          "output_type": "stream",
          "name": "stdout",
          "text": [
            "\n",
            "Cleaned Text Examples:\n",
            "                      text            cleaned_text\n",
            "0                 So glad!                 so glad\n",
            "1  The sound of happiness!  the sound of happiness\n",
            "2               So lonely.               so lonely\n",
            "3              Unexpected!              unexpected\n",
            "4      That's comedy gold.       thats comedy gold\n",
            "\n",
            "Shape of Feature Matrix (X): (860, 197)\n",
            "Shape of Target Variable (y): (860,)\n"
          ]
        }
      ]
    },
    {
      "cell_type": "code",
      "source": [
        "from sklearn.model_selection import train_test_split\n",
        "from sklearn.naive_bayes import MultinomialNB\n",
        "from sklearn.metrics import accuracy_score, classification_report\n",
        "\n",
        "X_train, X_test, y_train, y_test = train_test_split(X, y, test_size=0.2, random_state=42)\n",
        "\n",
        "model = MultinomialNB()\n",
        "model.fit(X_train, y_train)\n",
        "y_pred = model.predict(X_test)\n",
        "\n",
        "accuracy = accuracy_score(y_test, y_pred)\n",
        "print(f\"\\nAccuracy of the model: {accuracy:.2f}\")\n",
        "print(\"\\nClassification Report:\")\n",
        "print(classification_report(y_test, y_pred, zero_division=0))"
      ],
      "metadata": {
        "colab": {
          "base_uri": "https://localhost:8080/"
        },
        "id": "DUW00x8RLIU7",
        "outputId": "3da106aa-3818-4cdd-d5c2-9d19f9369053"
      },
      "execution_count": 4,
      "outputs": [
        {
          "output_type": "stream",
          "name": "stdout",
          "text": [
            "\n",
            "Accuracy of the model: 0.01\n",
            "\n",
            "Classification Report:\n",
            "              precision    recall  f1-score   support\n",
            "\n",
            "          ⛰️       0.00      0.00      0.00         1\n",
            "          ✈️       0.00      0.00      0.00         2\n",
            "          ❤️       0.00      0.00      0.00         1\n",
            "           🌍       0.00      0.00      0.00         2\n",
            "           🍔       0.00      0.00      0.00         1\n",
            "           🍕       0.00      0.00      0.00         1\n",
            "           🍜       0.00      0.00      0.00         1\n",
            "           🍝       0.00      0.00      0.00         3\n",
            "           🍟       0.00      0.00      0.00         2\n",
            "           🍣       0.00      0.00      0.00         4\n",
            "           🍦       0.00      0.00      0.00         2\n",
            "           🍰       0.00      0.00      0.00         1\n",
            "           🍾       0.00      0.00      0.00         1\n",
            "           🎁       0.00      0.00      0.00         4\n",
            "           🎈       0.00      0.00      0.00         1\n",
            "           🎉       0.00      0.00      0.00         2\n",
            "           🎊       0.00      0.00      0.00         3\n",
            "           🎤       0.00      0.00      0.00         1\n",
            "           🎧       0.00      0.00      0.00         3\n",
            "           🎵       0.00      0.00      0.00         1\n",
            "           🎶       0.00      0.00      0.00         3\n",
            "           🎸       0.00      0.00      0.00         2\n",
            "           🎹       0.00      0.00      0.00         2\n",
            "          🏖️       0.00      0.00      0.00         2\n",
            "           👿       0.00      0.00      0.00         2\n",
            "           💌       0.00      0.00      0.00         2\n",
            "           💕       0.00      0.00      0.00         2\n",
            "           💖       0.00      0.00      0.00         1\n",
            "           💘       0.00      0.00      0.00         1\n",
            "           💞       0.00      0.00      0.00         4\n",
            "          🗺️       0.00      0.00      0.00         3\n",
            "           😁       0.00      0.00      0.00         2\n",
            "           😂       0.00      0.00      0.00         2\n",
            "           😄       0.00      0.00      0.00         2\n",
            "           😆       0.00      0.00      0.00         2\n",
            "           😇       0.00      0.00      0.00         2\n",
            "           😊       0.00      0.00      0.00         1\n",
            "           😋       0.00      0.00      0.00         4\n",
            "           😍       0.00      0.00      0.00         4\n",
            "           😓       0.00      0.00      0.00         4\n",
            "           😔       0.00      0.00      0.00         3\n",
            "           😘       0.00      0.00      0.00         1\n",
            "           😜       0.00      0.00      0.00         3\n",
            "           😝       0.00      0.00      0.00         3\n",
            "           😞       0.00      0.00      0.00         3\n",
            "           😟       0.00      0.00      0.00         3\n",
            "           😠       0.00      0.00      0.00         0\n",
            "           😡       0.00      0.00      0.00         1\n",
            "           😢       0.00      0.00      0.00         8\n",
            "           😤       0.00      0.00      0.00         2\n",
            "           😫       0.00      0.00      0.00         1\n",
            "           😭       0.00      0.00      0.00         1\n",
            "           😮       0.00      0.00      0.00         3\n",
            "           😯       0.00      0.00      0.00         2\n",
            "           😱       0.00      0.00      0.00         2\n",
            "           😲       0.00      0.00      0.00         1\n",
            "           😳       0.00      0.00      0.00         1\n",
            "           😹       0.00      0.00      0.00         1\n",
            "           😾       0.00      0.00      0.00         1\n",
            "           🙁       0.00      0.00      0.00         2\n",
            "           🙄       0.00      0.00      0.00         1\n",
            "           🚀       0.00      0.00      0.00         5\n",
            "           🚂       0.00      0.00      0.00         0\n",
            "           🚌       0.00      0.00      0.00         3\n",
            "           🚗       0.00      0.00      0.00         2\n",
            "           🚢       0.00      0.00      0.00         2\n",
            "           🤔       0.00      0.00      0.00         1\n",
            "           🤡       0.00      0.00      0.00         2\n",
            "           🤣       0.00      0.00      0.00         3\n",
            "           🤤       0.04      0.33      0.07         3\n",
            "           🤨       0.00      0.00      0.00         3\n",
            "           🤩       0.00      0.00      0.00         3\n",
            "           🤪       0.00      0.00      0.00         0\n",
            "           🤬       0.00      0.00      0.00         4\n",
            "           🤯       0.00      0.00      0.00         3\n",
            "           🥰       0.00      0.00      0.00         4\n",
            "           🥺       0.00      0.00      0.00         3\n",
            "           🧐       0.00      0.00      0.00         4\n",
            "\n",
            "    accuracy                           0.01       172\n",
            "   macro avg       0.00      0.00      0.00       172\n",
            "weighted avg       0.00      0.01      0.00       172\n",
            "\n"
          ]
        }
      ]
    },
    {
      "cell_type": "code",
      "source": [
        "def predict_emoji(text, model, vectorizer):\n",
        "    cleaned_text = clean_text(text)\n",
        "    text_vectorized = vectorizer.transform([cleaned_text])\n",
        "    predicted_emoji = model.predict(text_vectorized)[0]\n",
        "    return predicted_emoji\n",
        "\n",
        "print(\"\\nInteractive Emoji Prediction:\")\n",
        "while True:\n",
        "    user_input = input(\"Enter text (or type 'exit' to quit): \")\n",
        "    if user_input.lower() == 'exit':\n",
        "        break\n",
        "    if user_input:\n",
        "        predicted_emoji = predict_emoji(user_input, model, vectorizer)\n",
        "        print(f\"Predicted emoji: {predicted_emoji}\")"
      ],
      "metadata": {
        "colab": {
          "base_uri": "https://localhost:8080/",
          "height": 564
        },
        "id": "l1ipti7fLP5m",
        "outputId": "447205c3-0fd2-4005-9d85-77d10f75036f"
      },
      "execution_count": 5,
      "outputs": [
        {
          "output_type": "stream",
          "name": "stdout",
          "text": [
            "\n",
            "Interactive Emoji Prediction:\n",
            "Enter text (or type 'exit' to quit): i love you \n",
            "Predicted emoji: 😍\n",
            "Enter text (or type 'exit' to quit): i miss you \n",
            "Predicted emoji: 🥺\n",
            "Enter text (or type 'exit' to quit): i am hungry \n",
            "Predicted emoji: 🤤\n",
            "Enter text (or type 'exit' to quit): i want to meet you \n",
            "Predicted emoji: 🥺\n",
            "Enter text (or type 'exit' to quit): i am studying \n",
            "Predicted emoji: 😔\n"
          ]
        },
        {
          "output_type": "error",
          "ename": "KeyboardInterrupt",
          "evalue": "Interrupted by user",
          "traceback": [
            "\u001b[0;31m---------------------------------------------------------------------------\u001b[0m",
            "\u001b[0;31mKeyboardInterrupt\u001b[0m                         Traceback (most recent call last)",
            "\u001b[0;32m<ipython-input-5-3c5781234c9f>\u001b[0m in \u001b[0;36m<cell line: 0>\u001b[0;34m()\u001b[0m\n\u001b[1;32m      7\u001b[0m \u001b[0mprint\u001b[0m\u001b[0;34m(\u001b[0m\u001b[0;34m\"\\nInteractive Emoji Prediction:\"\u001b[0m\u001b[0;34m)\u001b[0m\u001b[0;34m\u001b[0m\u001b[0;34m\u001b[0m\u001b[0m\n\u001b[1;32m      8\u001b[0m \u001b[0;32mwhile\u001b[0m \u001b[0;32mTrue\u001b[0m\u001b[0;34m:\u001b[0m\u001b[0;34m\u001b[0m\u001b[0;34m\u001b[0m\u001b[0m\n\u001b[0;32m----> 9\u001b[0;31m     \u001b[0muser_input\u001b[0m \u001b[0;34m=\u001b[0m \u001b[0minput\u001b[0m\u001b[0;34m(\u001b[0m\u001b[0;34m\"Enter text (or type 'exit' to quit): \"\u001b[0m\u001b[0;34m)\u001b[0m\u001b[0;34m\u001b[0m\u001b[0;34m\u001b[0m\u001b[0m\n\u001b[0m\u001b[1;32m     10\u001b[0m     \u001b[0;32mif\u001b[0m \u001b[0muser_input\u001b[0m\u001b[0;34m.\u001b[0m\u001b[0mlower\u001b[0m\u001b[0;34m(\u001b[0m\u001b[0;34m)\u001b[0m \u001b[0;34m==\u001b[0m \u001b[0;34m'exit'\u001b[0m\u001b[0;34m:\u001b[0m\u001b[0;34m\u001b[0m\u001b[0;34m\u001b[0m\u001b[0m\n\u001b[1;32m     11\u001b[0m         \u001b[0;32mbreak\u001b[0m\u001b[0;34m\u001b[0m\u001b[0;34m\u001b[0m\u001b[0m\n",
            "\u001b[0;32m/usr/local/lib/python3.11/dist-packages/ipykernel/kernelbase.py\u001b[0m in \u001b[0;36mraw_input\u001b[0;34m(self, prompt)\u001b[0m\n\u001b[1;32m   1175\u001b[0m                 \u001b[0;34m\"raw_input was called, but this frontend does not support input requests.\"\u001b[0m\u001b[0;34m\u001b[0m\u001b[0;34m\u001b[0m\u001b[0m\n\u001b[1;32m   1176\u001b[0m             )\n\u001b[0;32m-> 1177\u001b[0;31m         return self._input_request(\n\u001b[0m\u001b[1;32m   1178\u001b[0m             \u001b[0mstr\u001b[0m\u001b[0;34m(\u001b[0m\u001b[0mprompt\u001b[0m\u001b[0;34m)\u001b[0m\u001b[0;34m,\u001b[0m\u001b[0;34m\u001b[0m\u001b[0;34m\u001b[0m\u001b[0m\n\u001b[1;32m   1179\u001b[0m             \u001b[0mself\u001b[0m\u001b[0;34m.\u001b[0m\u001b[0m_parent_ident\u001b[0m\u001b[0;34m[\u001b[0m\u001b[0;34m\"shell\"\u001b[0m\u001b[0;34m]\u001b[0m\u001b[0;34m,\u001b[0m\u001b[0;34m\u001b[0m\u001b[0;34m\u001b[0m\u001b[0m\n",
            "\u001b[0;32m/usr/local/lib/python3.11/dist-packages/ipykernel/kernelbase.py\u001b[0m in \u001b[0;36m_input_request\u001b[0;34m(self, prompt, ident, parent, password)\u001b[0m\n\u001b[1;32m   1217\u001b[0m             \u001b[0;32mexcept\u001b[0m \u001b[0mKeyboardInterrupt\u001b[0m\u001b[0;34m:\u001b[0m\u001b[0;34m\u001b[0m\u001b[0;34m\u001b[0m\u001b[0m\n\u001b[1;32m   1218\u001b[0m                 \u001b[0;31m# re-raise KeyboardInterrupt, to truncate traceback\u001b[0m\u001b[0;34m\u001b[0m\u001b[0;34m\u001b[0m\u001b[0m\n\u001b[0;32m-> 1219\u001b[0;31m                 \u001b[0;32mraise\u001b[0m \u001b[0mKeyboardInterrupt\u001b[0m\u001b[0;34m(\u001b[0m\u001b[0;34m\"Interrupted by user\"\u001b[0m\u001b[0;34m)\u001b[0m \u001b[0;32mfrom\u001b[0m \u001b[0;32mNone\u001b[0m\u001b[0;34m\u001b[0m\u001b[0;34m\u001b[0m\u001b[0m\n\u001b[0m\u001b[1;32m   1220\u001b[0m             \u001b[0;32mexcept\u001b[0m \u001b[0mException\u001b[0m\u001b[0;34m:\u001b[0m\u001b[0;34m\u001b[0m\u001b[0;34m\u001b[0m\u001b[0m\n\u001b[1;32m   1221\u001b[0m                 \u001b[0mself\u001b[0m\u001b[0;34m.\u001b[0m\u001b[0mlog\u001b[0m\u001b[0;34m.\u001b[0m\u001b[0mwarning\u001b[0m\u001b[0;34m(\u001b[0m\u001b[0;34m\"Invalid Message:\"\u001b[0m\u001b[0;34m,\u001b[0m \u001b[0mexc_info\u001b[0m\u001b[0;34m=\u001b[0m\u001b[0;32mTrue\u001b[0m\u001b[0;34m)\u001b[0m\u001b[0;34m\u001b[0m\u001b[0;34m\u001b[0m\u001b[0m\n",
            "\u001b[0;31mKeyboardInterrupt\u001b[0m: Interrupted by user"
          ]
        }
      ]
    },
    {
      "cell_type": "code",
      "source": [
        "import joblib\n",
        "\n",
        "model_filename = 'emoji_predictor_model.joblib'\n",
        "vectorizer_filename = 'tfidf_vectorizer.joblib'\n",
        "joblib.dump(model, model_filename)\n",
        "joblib.dump(vectorizer, vectorizer_filename)\n",
        "print(f\"\\nModel saved as {model_filename}\")\n",
        "print(f\"Vectorizer saved as {vectorizer_filename}\")\n",
        "\n",
        "# To load the model and vectorizer later:\n",
        "# loaded_model = joblib.load(model_filename)\n",
        "# loaded_vectorizer = joblib.load(vectorizer_filename)"
      ],
      "metadata": {
        "colab": {
          "base_uri": "https://localhost:8080/"
        },
        "id": "GhQ8w10PLf9J",
        "outputId": "ea3a661a-4d09-464a-fb22-a02ae0b2827c"
      },
      "execution_count": 6,
      "outputs": [
        {
          "output_type": "stream",
          "name": "stdout",
          "text": [
            "\n",
            "Model saved as emoji_predictor_model.joblib\n",
            "Vectorizer saved as tfidf_vectorizer.joblib\n"
          ]
        }
      ]
    }
  ],
  "metadata": {
    "colab": {
      "provenance": [],
      "authorship_tag": "ABX9TyM/6wqae9cOTcjLEeo9xYEA",
      "include_colab_link": true
    },
    "kernelspec": {
      "display_name": "Python 3",
      "name": "python3"
    },
    "language_info": {
      "name": "python"
    }
  },
  "nbformat": 4,
  "nbformat_minor": 0
}